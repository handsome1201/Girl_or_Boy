{
  "cells": [
    {
      "cell_type": "markdown",
      "metadata": {
        "id": "view-in-github",
        "colab_type": "text"
      },
      "source": [
        "<a href=\"https://colab.research.google.com/github/handsome1201/Girl_or_Boy/blob/main/%EB%82%A8%EC%9E%90%EC%9D%BC%EA%B9%8C%EC%9A%94_%EC%97%AC%EC%9E%90%EC%9D%BC%EA%B9%8C%EC%9A%94.ipynb\" target=\"_parent\"><img src=\"https://colab.research.google.com/assets/colab-badge.svg\" alt=\"Open In Colab\"/></a>"
      ]
    },
    {
      "cell_type": "code",
      "execution_count": 42,
      "metadata": {
        "id": "tAiPOr-56lzW"
      },
      "outputs": [],
      "source": [
        "import os\n",
        "import numpy as np\n",
        "import tensorflow as tf\n",
        "from tensorflow import keras\n",
        "from tensorflow.keras.utils import load_img, img_to_array\n",
        "from tensorflow.python.client import device_lib\n",
        "from sklearn.utils import shuffle"
      ]
    },
    {
      "cell_type": "markdown",
      "metadata": {
        "id": "Fo5P5Y_O7H2b"
      },
      "source": [
        "load data"
      ]
    },
    {
      "cell_type": "code",
      "execution_count": 43,
      "metadata": {
        "id": "EOjVfPZp6mE1"
      },
      "outputs": [],
      "source": [
        "train_file_0= os.listdir(\"/content/drive/MyDrive/공소실 자료/archive/train_data/train_data/남성664\")\n",
        "test_file_0= os.listdir(\"/content/drive/MyDrive/공소실 자료/archive/test_data/test_data_man100\")\n",
        "train_file_1= os.listdir(\"/content/drive/MyDrive/공소실 자료/archive/train_data/train_data/여성718\")\n",
        "test_file_1= os.listdir(\"/content/drive/MyDrive/공소실 자료/archive/test_data/test_data_woman100\")\n",
        "\n",
        "\n",
        "\n",
        "\n",
        "# train_file_0= os.listdir(\"저장장소\")\n",
        "# test_file_0= os.listdir(\"저장장소\")\n",
        "# train_file_1= os.listdir(\"저장장소\")\n",
        "# test_file_1= os.listdir(\"저장장소\")"
      ]
    },
    {
      "cell_type": "markdown",
      "metadata": {
        "id": "-cxODvtU7GBJ"
      },
      "source": [
        "set train data"
      ]
    },
    {
      "cell_type": "code",
      "execution_count": null,
      "metadata": {
        "id": "I0PqF8Xb69VN"
      },
      "outputs": [],
      "source": [
        "X_train= 0\n",
        "check= False\n",
        "\n",
        "for file in train_file_0:\n",
        "    img_data= load_img(\"/content/drive/MyDrive/공소실 자료/archive/train_data/train_data/남성664/\"+file)\n",
        "    img_arr= (img_to_array(img_data))/255\n",
        "    img= img_arr.reshape((1,)+ img_arr.shape)\n",
        "\n",
        "    if(check== False):\n",
        "        X_train= img\n",
        "        check= True\n",
        "    else:\n",
        "        X_train= np.vstack((X_train, img))\n",
        "\n",
        "for file in train_file_1:\n",
        "    img_data= load_img(\"/content/drive/MyDrive/공소실 자료/archive/train_data/train_data/여성718/\"+file)\n",
        "    img_arr= (img_to_array(img_data))/255\n",
        "    img= img_arr.reshape((1,)+ img_arr.shape)\n",
        "    X_train= np.vstack((X_train, img))"
      ]
    },
    {
      "cell_type": "code",
      "execution_count": null,
      "metadata": {
        "id": "NvpxexXD6_Dj"
      },
      "outputs": [],
      "source": [
        "y_train= np.array([0]* len(train_file_0))\n",
        "y_train_1= np.array([1]* len(train_file_1))\n",
        "y_train= np.append(y_train, y_train_1)"
      ]
    },
    {
      "cell_type": "code",
      "execution_count": null,
      "metadata": {
        "id": "YIX_SVTO7AFm"
      },
      "outputs": [],
      "source": [
        "print(X_train.shape)\n",
        "print(y_train.shape)"
      ]
    },
    {
      "cell_type": "markdown",
      "metadata": {
        "id": "lGZdNI5Y7Cx1"
      },
      "source": [
        "set test data"
      ]
    },
    {
      "cell_type": "code",
      "execution_count": null,
      "metadata": {
        "id": "oBtjWOI67BFi"
      },
      "outputs": [],
      "source": [
        "X_test= 0\n",
        "check= False\n",
        "\n",
        "for file in test_file_0:\n",
        "    img_data= load_img(\"/content/drive/MyDrive/공소실 자료/archive/test_data/test_data_man100/\"+ file)\n",
        "    img_arr= (img_to_array(img_data))/255\n",
        "    img= img_arr.reshape((1,)+ img_arr.shape)\n",
        "    \n",
        "    if(check== False):\n",
        "        X_test= img\n",
        "        check= True\n",
        "    else:\n",
        "        X_test= np.vstack((X_test, img))\n",
        "        \n",
        "for file in test_file_1:\n",
        "    img_data= load_img(\"/content/drive/MyDrive/공소실 자료/archive/test_data/test_data_woman100/\"+ file)\n",
        "    img_arr= (img_to_array(img_data))/255\n",
        "    img= img_arr.reshape((1,)+ img_arr.shape)\n",
        "    X_test= np.vstack((X_test, img))"
      ]
    },
    {
      "cell_type": "code",
      "execution_count": null,
      "metadata": {
        "id": "rGZ86m3F7CLG"
      },
      "outputs": [],
      "source": [
        "y_test= np.array([0]* len(test_file_0))\n",
        "y_test_1= np.array([1]* len(test_file_1))\n",
        "y_test= np.append(y_test, y_test_1)"
      ]
    },
    {
      "cell_type": "code",
      "execution_count": null,
      "metadata": {
        "id": "QClu6pn-7M6R"
      },
      "outputs": [],
      "source": [
        "print(X_test.shape)\n",
        "print(y_test.shape)"
      ]
    },
    {
      "cell_type": "code",
      "execution_count": null,
      "metadata": {
        "id": "Ld-f_Ccp7N_r"
      },
      "outputs": [],
      "source": [
        "X_train, y_train= shuffle(X_train, y_train, random_state= 42)\n",
        "X_test, y_test= shuffle(X_test, y_test, random_state= 42)"
      ]
    },
    {
      "cell_type": "markdown",
      "metadata": {
        "id": "EQGGT5eG7Qjs"
      },
      "source": [
        "save data"
      ]
    },
    {
      "cell_type": "code",
      "execution_count": null,
      "metadata": {
        "id": "lFa9t8Eo7PMb"
      },
      "outputs": [],
      "source": [
        "np.save(\"/content/drive/MyDrive/공소실 자료/dataset/X_train\", X_train)\n",
        "np.save(\"/content/drive/MyDrive/공소실 자료/dataset/y_train\", y_train)\n",
        "np.save(\"/content/drive/MyDrive/공소실 자료/dataset/X_test\", X_test)\n",
        "np.save(\"/content/drive/MyDrive/공소실 자료/dataset/y_test\", y_test)"
      ]
    },
    {
      "cell_type": "code",
      "execution_count": null,
      "metadata": {
        "id": "JDkGm5kZpphP"
      },
      "outputs": [],
      "source": [
        "import os\n",
        "import numpy as np\n",
        "import tensorflow as tf\n",
        "from tensorflow import keras\n",
        "from tensorflow.keras.utils import load_img, img_to_array\n",
        "from tensorflow.python.client import device_lib\n",
        "from sklearn.utils import shuffle"
      ]
    },
    {
      "cell_type": "markdown",
      "metadata": {
        "id": "ZL7G6Dtt7ZT8"
      },
      "source": [
        "load data"
      ]
    },
    {
      "cell_type": "code",
      "execution_count": null,
      "metadata": {
        "id": "cijq5g6M7YBx"
      },
      "outputs": [],
      "source": [
        "X_train= np.load(\"/content/drive/MyDrive/공소실 자료/dataset/X_train.npy\")\n",
        "y_train= np.load(\"/content/drive/MyDrive/공소실 자료/dataset/y_train.npy\")\n",
        "X_test= np.load(\"/content/drive/MyDrive/공소실 자료/dataset/X_test.npy\")\n",
        "y_test= np.load(\"/content/drive/MyDrive/공소실 자료/dataset/y_test.npy\")"
      ]
    },
    {
      "cell_type": "markdown",
      "metadata": {
        "id": "44acMI9u7bBa"
      },
      "source": [
        "build model"
      ]
    },
    {
      "cell_type": "code",
      "execution_count": null,
      "metadata": {
        "id": "dASckeNN7buL"
      },
      "outputs": [],
      "source": [
        "model= keras.models.Sequential()"
      ]
    },
    {
      "cell_type": "code",
      "execution_count": null,
      "metadata": {
        "id": "fcU68DtW7c-V"
      },
      "outputs": [],
      "source": [
        "model.add(keras.layers.Conv2D(64, 10, activation= \"relu\", padding= \"same\", input_shape= [480, 480, 3]))\n",
        "model.add(keras.layers.MaxPooling2D(2))\n",
        "model.add(keras.layers.Conv2D(128, 4, activation= \"relu\", padding= \"same\"))\n",
        "model.add(keras.layers.Conv2D(128, 4, activation= \"relu\", padding= \"same\"))\n",
        "model.add(keras.layers.MaxPooling2D(2))\n",
        "model.add(keras.layers.Conv2D(256, 4, activation= \"relu\", padding= \"same\"))\n",
        "model.add(keras.layers.Conv2D(256, 4, activation= \"relu\", padding= \"same\"))\n",
        "model.add(keras.layers.Flatten())\n",
        "model.add(keras.layers.Dense(128, activation= \"relu\"))\n",
        "model.add(keras.layers.Dropout(0.5))\n",
        "model.add(keras.layers.Dense(64, activation= \"relu\"))\n",
        "model.add(keras.layers.Dropout(0.5))\n",
        "model.add(keras.layers.Dense(2, activation= \"softmax\"))"
      ]
    },
    {
      "cell_type": "code",
      "execution_count": null,
      "metadata": {
        "id": "71YXtcpv7eBU"
      },
      "outputs": [],
      "source": [
        "model.compile(loss= \"sparse_categorical_crossentropy\", optimizer= \"sgd\", metrics= [\"accuracy\"])\n",
        "model.summary()"
      ]
    },
    {
      "cell_type": "markdown",
      "metadata": {
        "id": "hwrRVZF87gcL"
      },
      "source": [
        "train"
      ]
    },
    {
      "cell_type": "code",
      "execution_count": null,
      "metadata": {
        "id": "AqZlAkWT7hwN"
      },
      "outputs": [],
      "source": [
        "history= model.fit(X_train, y_train, epochs=40)"
      ]
    },
    {
      "cell_type": "markdown",
      "metadata": {
        "id": "9hnxtG_C7px2"
      },
      "source": [
        "check loss and accuracy"
      ]
    },
    {
      "cell_type": "code",
      "execution_count": null,
      "metadata": {
        "id": "Q5QAArWD7iow"
      },
      "outputs": [],
      "source": [
        "import pandas as pd\n",
        "import matplotlib.pyplot as plt"
      ]
    },
    {
      "cell_type": "code",
      "execution_count": null,
      "metadata": {
        "id": "rKBivrtj7tqI"
      },
      "outputs": [],
      "source": [
        "pd.DataFrame(history.history).plot(figsize= (8, 5))\n",
        "plt.grid(True)\n",
        "plt.gca().set_ylim(0, 1)\n",
        "plt.show()"
      ]
    },
    {
      "cell_type": "markdown",
      "metadata": {
        "id": "Cf-9BWgL7xM6"
      },
      "source": [
        "use test data"
      ]
    },
    {
      "cell_type": "code",
      "execution_count": null,
      "metadata": {
        "id": "YIxkgzuT70xd"
      },
      "outputs": [],
      "source": [
        "y_predicted= model.predict(X_test)\n",
        "y_pred = y_predicted.argmax(axis=-1)"
      ]
    },
    {
      "cell_type": "code",
      "execution_count": null,
      "metadata": {
        "id": "6hbevTflqlpU"
      },
      "outputs": [],
      "source": [
        "from sklearn.metrics import accuracy_score\n",
        "\n",
        "accuracy_score(y_test,y_pred)"
      ]
    },
    {
      "cell_type": "code",
      "execution_count": null,
      "metadata": {
        "id": "4QyXKcFpJWYQ"
      },
      "outputs": [],
      "source": [
        "from keras.models import load_model\n",
        "\n",
        "model.save('girl_boy_predict')"
      ]
    },
    {
      "cell_type": "code",
      "execution_count": null,
      "metadata": {
        "id": "Ba5NvjZbKKcb"
      },
      "outputs": [],
      "source": [
        "from keras.models import load_model\n",
        "model = load_model('girl_boy_predict')"
      ]
    },
    {
      "cell_type": "markdown",
      "source": [
        "데이터를 확인해 볼 사진을 지정 위치에 남녀 구분해서 값을 저장"
      ],
      "metadata": {
        "id": "Upzeka9XwAnH"
      }
    },
    {
      "cell_type": "code",
      "execution_count": null,
      "metadata": {
        "id": "fQjHZDNtCbPu"
      },
      "outputs": [],
      "source": [
        "from keras.utils import image_utils\n",
        "\n",
        "test0= os.listdir(\"/content/drive/MyDrive/공소실 자료/archive/제목없는 폴더/남자\")\n",
        "test1= os.listdir(\"/content/drive/MyDrive/공소실 자료/archive/제목없는 폴더/여자\")\n",
        "\n",
        "X_test_what= 0\n",
        "check= False\n",
        "\n",
        "for file in test0:\n",
        "    img_data= image_utils.load_img(\"/content/drive/MyDrive/공소실 자료/archive/제목없는 폴더/남자/\"+ file)\n",
        "    img_arr= (image_utils.img_to_array(img_data))/255\n",
        "    img= img_arr.reshape((1,)+ img_arr.shape)\n",
        "    \n",
        "    if(check== False):\n",
        "        X_test_what= img\n",
        "        check= True\n",
        "    else:\n",
        "        X_test_what= np.vstack((X_test_what, img))\n",
        "        \n",
        "for file in test1:\n",
        "    img_data= image_utils.load_img(\"/content/drive/MyDrive/공소실 자료/archive/제목없는 폴더/여자/\"+ file)\n",
        "    img_arr= (image_utils.img_to_array(img_data))/255\n",
        "    img= img_arr.reshape((1,)+ img_arr.shape)\n",
        "    X_test_what= np.vstack((X_test_what, img))\n",
        "    \n",
        "\n",
        "y_test_what= np.array([0]* len(test0))\n",
        "y_test_1= np.array([1]* len(test1))\n",
        "y_test_what= np.append(y_test_what, y_test_1)"
      ]
    },
    {
      "cell_type": "code",
      "execution_count": null,
      "metadata": {
        "id": "nXvuXRiXCbSh"
      },
      "outputs": [],
      "source": [
        "y_predicted= model.predict(X_test_what)\n",
        "y_pred1 = y_predicted.argmax(axis=-1)"
      ]
    },
    {
      "cell_type": "code",
      "execution_count": null,
      "metadata": {
        "id": "3qKZVzciQMrZ"
      },
      "outputs": [],
      "source": [
        "y_pred1"
      ]
    },
    {
      "cell_type": "code",
      "source": [
        "y_pred"
      ],
      "metadata": {
        "id": "anVQou9yu1S0"
      },
      "execution_count": null,
      "outputs": []
    },
    {
      "cell_type": "markdown",
      "metadata": {
        "id": "xrRl7s0y7_XU"
      },
      "source": [
        "check accuracy"
      ]
    },
    {
      "cell_type": "code",
      "execution_count": null,
      "metadata": {
        "id": "n9qBsu3X8Bn-"
      },
      "outputs": [],
      "source": [
        "accuracy= 0\n",
        "\n",
        "for i in range(len(y_test)):\n",
        "    if(y_test[i]== y_pred[i]):\n",
        "        accuracy+= 1\n",
        "        \n",
        "print(accuracy/len(y_test))"
      ]
    },
    {
      "cell_type": "markdown",
      "source": [
        "확인하고 싶은 사진 결과 확인인"
      ],
      "metadata": {
        "id": "j4D6Vetlv4MA"
      }
    },
    {
      "cell_type": "code",
      "execution_count": null,
      "metadata": {
        "id": "SpQWGOkDvhPS"
      },
      "outputs": [],
      "source": [
        "import matplotlib.pyplot as plt\n",
        "\n",
        "\n",
        "for a in range(len(y_pred1)):\n",
        "\n",
        "  plt.rcParams['figure.figsize'] = (5, 5) \n",
        "  plt.imshow(X_test_what[a])\n",
        "  plt.show()\n",
        "\n",
        "\n",
        "  if (y_pred1[a]==1):\n",
        "      print(\"예측: 여성\",accuracy_score(y_test,y_pred)*100,\"%\")\n",
        "      if(y_test_what[a]==0):\n",
        "        print(\"정답: 남성\")\n",
        "      else:\n",
        "        print(\"정답: 여성\")\n",
        "  else:\n",
        "      print(\"예측: 남성\",accuracy_score(y_test,y_pred)*100,\"%\")\n",
        "      if(y_test_what[a]==0):\n",
        "        print(\"정답: 남성\")\n",
        "      else:\n",
        "        print(\"정답: 여성\")"
      ]
    }
  ],
  "metadata": {
    "accelerator": "GPU",
    "colab": {
      "collapsed_sections": [],
      "machine_shape": "hm",
      "provenance": [],
      "mount_file_id": "1Q3lxPWqmRUA5_JCFLJNUhj8LpAYchhb8",
      "authorship_tag": "ABX9TyPzQqO2SNCyZO0b9Jaa/Jlw",
      "include_colab_link": true
    },
    "gpuClass": "premium",
    "kernelspec": {
      "display_name": "Python 3",
      "name": "python3"
    },
    "language_info": {
      "name": "python"
    }
  },
  "nbformat": 4,
  "nbformat_minor": 0
}