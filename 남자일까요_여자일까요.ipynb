{
  "cells": [
    {
      "cell_type": "markdown",
      "metadata": {
        "id": "view-in-github",
        "colab_type": "text"
      },
      "source": [
        "<a href=\"https://colab.research.google.com/github/handsome1201/Girl_or_Boy/blob/main/%EB%82%A8%EC%9E%90%EC%9D%BC%EA%B9%8C%EC%9A%94_%EC%97%AC%EC%9E%90%EC%9D%BC%EA%B9%8C%EC%9A%94.ipynb\" target=\"_parent\"><img src=\"https://colab.research.google.com/assets/colab-badge.svg\" alt=\"Open In Colab\"/></a>"
      ]
    },
    {
      "cell_type": "code",
      "execution_count": 3,
      "metadata": {
        "id": "tAiPOr-56lzW"
      },
      "outputs": [],
      "source": [
        "import os\n",
        "import numpy as np\n",
        "import tensorflow as tf\n",
        "from tensorflow import keras\n",
        "from keras.preprocessing import image\n",
        "from tensorflow.python.client import device_lib\n",
        "from sklearn.utils import shuffle"
      ]
    },
    {
      "cell_type": "markdown",
      "metadata": {
        "id": "Fo5P5Y_O7H2b"
      },
      "source": [
        "load data"
      ]
    },
    {
      "cell_type": "code",
      "execution_count": 4,
      "metadata": {
        "id": "EOjVfPZp6mE1"
      },
      "outputs": [],
      "source": [
        "train_file_0= os.listdir(\"/content/drive/MyDrive/공소실 자료/archive/train_data/train_data/남성664\")\n",
        "test_file_0= os.listdir(\"/content/drive/MyDrive/공소실 자료/archive/test_data/test_data_man100\")\n",
        "train_file_1= os.listdir(\"/content/drive/MyDrive/공소실 자료/archive/train_data/train_data/여성718\")\n",
        "test_file_1= os.listdir(\"/content/drive/MyDrive/공소실 자료/archive/test_data/test_data_woman100\")"
      ]
    },
    {
      "cell_type": "markdown",
      "metadata": {
        "id": "-cxODvtU7GBJ"
      },
      "source": [
        "set train data"
      ]
    },
    {
      "cell_type": "code",
      "execution_count": 3,
      "metadata": {
        "id": "I0PqF8Xb69VN"
      },
      "outputs": [],
      "source": [
        "X_train= 0\n",
        "check= False\n",
        "\n",
        "for file in train_file_0:\n",
        "    img_data= image.load_img(\"/content/drive/MyDrive/공소실 자료/archive/train_data/train_data/남성664/\"+file)\n",
        "    img_arr= (image.img_to_array(img_data))/255\n",
        "    img= img_arr.reshape((1,)+ img_arr.shape)\n",
        "\n",
        "    if(check== False):\n",
        "        X_train= img\n",
        "        check= True\n",
        "    else:\n",
        "        X_train= np.vstack((X_train, img))\n",
        "\n",
        "for file in train_file_1:\n",
        "    img_data= image.load_img(\"/content/drive/MyDrive/공소실 자료/archive/train_data/train_data/여성718/\"+file)\n",
        "    img_arr= (image.img_to_array(img_data))/255\n",
        "    img= img_arr.reshape((1,)+ img_arr.shape)\n",
        "    X_train= np.vstack((X_train, img))"
      ]
    },
    {
      "cell_type": "code",
      "execution_count": 4,
      "metadata": {
        "id": "NvpxexXD6_Dj"
      },
      "outputs": [],
      "source": [
        "y_train= np.array([0]* len(train_file_0))\n",
        "y_train_1= np.array([1]* len(train_file_1))\n",
        "y_train= np.append(y_train, y_train_1)"
      ]
    },
    {
      "cell_type": "code",
      "execution_count": 5,
      "metadata": {
        "colab": {
          "base_uri": "https://localhost:8080/"
        },
        "id": "YIX_SVTO7AFm",
        "outputId": "524fce9f-b84d-45cc-b90e-24f425621486"
      },
      "outputs": [
        {
          "output_type": "stream",
          "name": "stdout",
          "text": [
            "(1382, 480, 480, 3)\n",
            "(1382,)\n"
          ]
        }
      ],
      "source": [
        "print(X_train.shape)\n",
        "print(y_train.shape)"
      ]
    },
    {
      "cell_type": "markdown",
      "metadata": {
        "id": "lGZdNI5Y7Cx1"
      },
      "source": [
        "set test data"
      ]
    },
    {
      "cell_type": "code",
      "execution_count": 6,
      "metadata": {
        "id": "oBtjWOI67BFi"
      },
      "outputs": [],
      "source": [
        "X_test= 0\n",
        "check= False\n",
        "\n",
        "for file in test_file_0:\n",
        "    img_data= image.load_img(\"/content/drive/MyDrive/공소실 자료/archive/test_data/test_data_man100/\"+ file)\n",
        "    img_arr= (image.img_to_array(img_data))/255\n",
        "    img= img_arr.reshape((1,)+ img_arr.shape)\n",
        "    \n",
        "    if(check== False):\n",
        "        X_test= img\n",
        "        check= True\n",
        "    else:\n",
        "        X_test= np.vstack((X_test, img))\n",
        "        \n",
        "for file in test_file_1:\n",
        "    img_data= image.load_img(\"/content/drive/MyDrive/공소실 자료/archive/test_data/test_data_woman100/\"+ file)\n",
        "    img_arr= (image.img_to_array(img_data))/255\n",
        "    img= img_arr.reshape((1,)+ img_arr.shape)\n",
        "    X_test= np.vstack((X_test, img))"
      ]
    },
    {
      "cell_type": "code",
      "execution_count": 7,
      "metadata": {
        "id": "rGZ86m3F7CLG"
      },
      "outputs": [],
      "source": [
        "y_test= np.array([0]* len(test_file_0))\n",
        "y_test_1= np.array([1]* len(test_file_1))\n",
        "y_test= np.append(y_test, y_test_1)"
      ]
    },
    {
      "cell_type": "code",
      "execution_count": 8,
      "metadata": {
        "id": "QClu6pn-7M6R",
        "colab": {
          "base_uri": "https://localhost:8080/"
        },
        "outputId": "785afd93-9b05-4ff4-c88d-bee236f66f40"
      },
      "outputs": [
        {
          "output_type": "stream",
          "name": "stdout",
          "text": [
            "(200, 480, 480, 3)\n",
            "(200,)\n"
          ]
        }
      ],
      "source": [
        "print(X_test.shape)\n",
        "print(y_test.shape)"
      ]
    },
    {
      "cell_type": "code",
      "execution_count": 9,
      "metadata": {
        "id": "Ld-f_Ccp7N_r"
      },
      "outputs": [],
      "source": [
        "X_train, y_train= shuffle(X_train, y_train, random_state= 42)\n",
        "X_test, y_test= shuffle(X_test, y_test, random_state= 42)"
      ]
    },
    {
      "cell_type": "markdown",
      "metadata": {
        "id": "EQGGT5eG7Qjs"
      },
      "source": [
        "save data"
      ]
    },
    {
      "cell_type": "code",
      "execution_count": 10,
      "metadata": {
        "id": "lFa9t8Eo7PMb"
      },
      "outputs": [],
      "source": [
        "np.save(\"/content/drive/MyDrive/공소실 자료/dataset/X_train\", X_train)\n",
        "np.save(\"/content/drive/MyDrive/공소실 자료/dataset/y_train\", y_train)\n",
        "np.save(\"/content/drive/MyDrive/공소실 자료/dataset/X_test\", X_test)\n",
        "np.save(\"/content/drive/MyDrive/공소실 자료/dataset/y_test\", y_test)"
      ]
    },
    {
      "cell_type": "markdown",
      "metadata": {
        "id": "ZL7G6Dtt7ZT8"
      },
      "source": [
        "load data"
      ]
    },
    {
      "cell_type": "code",
      "execution_count": 5,
      "metadata": {
        "id": "cijq5g6M7YBx"
      },
      "outputs": [],
      "source": [
        "X_train= np.load(\"/content/drive/MyDrive/공소실 자료/dataset/X_train.npy\")\n",
        "y_train= np.load(\"/content/drive/MyDrive/공소실 자료/dataset/y_train.npy\")\n",
        "X_test= np.load(\"/content/drive/MyDrive/공소실 자료/dataset/X_test.npy\")\n",
        "y_test= np.load(\"/content/drive/MyDrive/공소실 자료/dataset/y_test.npy\")"
      ]
    },
    {
      "cell_type": "markdown",
      "metadata": {
        "id": "44acMI9u7bBa"
      },
      "source": [
        "build model"
      ]
    },
    {
      "cell_type": "code",
      "execution_count": 6,
      "metadata": {
        "id": "dASckeNN7buL"
      },
      "outputs": [],
      "source": [
        "model= keras.models.Sequential()"
      ]
    },
    {
      "cell_type": "code",
      "execution_count": 7,
      "metadata": {
        "id": "fcU68DtW7c-V"
      },
      "outputs": [],
      "source": [
        "model.add(keras.layers.Conv2D(64, 10, activation= \"relu\", padding= \"same\", input_shape= [480, 480, 3]))\n",
        "model.add(keras.layers.MaxPooling2D(2))\n",
        "model.add(keras.layers.Conv2D(128, 4, activation= \"relu\", padding= \"same\"))\n",
        "model.add(keras.layers.Conv2D(128, 4, activation= \"relu\", padding= \"same\"))\n",
        "model.add(keras.layers.MaxPooling2D(2))\n",
        "model.add(keras.layers.Conv2D(256, 4, activation= \"relu\", padding= \"same\"))\n",
        "model.add(keras.layers.Conv2D(256, 4, activation= \"relu\", padding= \"same\"))\n",
        "model.add(keras.layers.Flatten())\n",
        "model.add(keras.layers.Dense(128, activation= \"relu\"))\n",
        "model.add(keras.layers.Dropout(0.5))\n",
        "model.add(keras.layers.Dense(64, activation= \"relu\"))\n",
        "model.add(keras.layers.Dropout(0.5))\n",
        "model.add(keras.layers.Dense(2, activation= \"softmax\"))"
      ]
    },
    {
      "cell_type": "code",
      "execution_count": 8,
      "metadata": {
        "id": "71YXtcpv7eBU",
        "colab": {
          "base_uri": "https://localhost:8080/"
        },
        "outputId": "3ab02990-e367-4292-c22b-671a574d4eb5"
      },
      "outputs": [
        {
          "output_type": "stream",
          "name": "stdout",
          "text": [
            "Model: \"sequential\"\n",
            "_________________________________________________________________\n",
            " Layer (type)                Output Shape              Param #   \n",
            "=================================================================\n",
            " conv2d (Conv2D)             (None, 480, 480, 64)      19264     \n",
            "                                                                 \n",
            " max_pooling2d (MaxPooling2D  (None, 240, 240, 64)     0         \n",
            " )                                                               \n",
            "                                                                 \n",
            " conv2d_1 (Conv2D)           (None, 240, 240, 128)     131200    \n",
            "                                                                 \n",
            " conv2d_2 (Conv2D)           (None, 240, 240, 128)     262272    \n",
            "                                                                 \n",
            " max_pooling2d_1 (MaxPooling  (None, 120, 120, 128)    0         \n",
            " 2D)                                                             \n",
            "                                                                 \n",
            " conv2d_3 (Conv2D)           (None, 120, 120, 256)     524544    \n",
            "                                                                 \n",
            " conv2d_4 (Conv2D)           (None, 120, 120, 256)     1048832   \n",
            "                                                                 \n",
            " flatten (Flatten)           (None, 3686400)           0         \n",
            "                                                                 \n",
            " dense (Dense)               (None, 128)               471859328 \n",
            "                                                                 \n",
            " dropout (Dropout)           (None, 128)               0         \n",
            "                                                                 \n",
            " dense_1 (Dense)             (None, 64)                8256      \n",
            "                                                                 \n",
            " dropout_1 (Dropout)         (None, 64)                0         \n",
            "                                                                 \n",
            " dense_2 (Dense)             (None, 2)                 130       \n",
            "                                                                 \n",
            "=================================================================\n",
            "Total params: 473,853,826\n",
            "Trainable params: 473,853,826\n",
            "Non-trainable params: 0\n",
            "_________________________________________________________________\n"
          ]
        }
      ],
      "source": [
        "model.compile(loss= \"sparse_categorical_crossentropy\", optimizer= \"sgd\", metrics= [\"accuracy\"])\n",
        "model.summary()"
      ]
    },
    {
      "cell_type": "markdown",
      "metadata": {
        "id": "hwrRVZF87gcL"
      },
      "source": [
        "train"
      ]
    },
    {
      "cell_type": "code",
      "execution_count": 9,
      "metadata": {
        "id": "AqZlAkWT7hwN",
        "colab": {
          "base_uri": "https://localhost:8080/"
        },
        "outputId": "acff91ff-441d-4d1c-fc9d-9d8d91229dbf"
      },
      "outputs": [
        {
          "output_type": "stream",
          "name": "stdout",
          "text": [
            "Epoch 1/2\n",
            "44/44 [==============================] - 102s 2s/step - loss: 0.6955 - accuracy: 0.5036\n",
            "Epoch 2/2\n",
            "44/44 [==============================] - 79s 2s/step - loss: 0.6877 - accuracy: 0.5535\n"
          ]
        }
      ],
      "source": [
        "history= model.fit(X_train, y_train, epochs= 2)"
      ]
    },
    {
      "cell_type": "markdown",
      "metadata": {
        "id": "9hnxtG_C7px2"
      },
      "source": [
        "check loss and accuracy"
      ]
    },
    {
      "cell_type": "code",
      "execution_count": 10,
      "metadata": {
        "id": "Q5QAArWD7iow"
      },
      "outputs": [],
      "source": [
        "import pandas as pd\n",
        "import matplotlib.pyplot as plt"
      ]
    },
    {
      "cell_type": "code",
      "execution_count": 11,
      "metadata": {
        "id": "rKBivrtj7tqI",
        "colab": {
          "base_uri": "https://localhost:8080/",
          "height": 324
        },
        "outputId": "ba5574d3-47e1-4776-a1ef-14762eb1ee8a"
      },
      "outputs": [
        {
          "output_type": "display_data",
          "data": {
            "text/plain": [
              "<Figure size 576x360 with 1 Axes>"
            ],
            "image/png": "[encoded data removed]"
          },
          "metadata": {
            "needs_background": "light"
          }
        }
      ],
      "source": [
        "pd.DataFrame(history.history).plot(figsize= (8, 5))\n",
        "plt.grid(True)\n",
        "plt.gca().set_ylim(0, 1)\n",
        "plt.show()"
      ]
    },
    {
      "cell_type": "markdown",
      "metadata": {
        "id": "Cf-9BWgL7xM6"
      },
      "source": [
        "use test data"
      ]
    },
    {
      "cell_type": "code",
      "execution_count": 12,
      "metadata": {
        "id": "YIxkgzuT70xd"
      },
      "outputs": [],
      "source": [
        "y_predicted= model.predict(X_test)\n",
        "y_pred = y_predicted.argmax(axis=-1)"
      ]
    },
    {
      "cell_type": "code",
      "execution_count": 13,
      "metadata": {
        "id": "ntXi7bO979vC",
        "colab": {
          "base_uri": "https://localhost:8080/"
        },
        "outputId": "da5a3b5f-92d2-4470-89f0-ccf9ba84842e"
      },
      "outputs": [
        {
          "output_type": "execute_result",
          "data": {
            "text/plain": [
              "array([0, 0, 0, 1, 1, 1, 0, 1, 1, 0, 0, 1, 1, 0, 1, 1, 0, 1, 0, 0, 1, 0,\n",
              "       1, 0, 0, 0, 0, 0, 1, 1, 0, 0, 0, 0, 1, 1, 1, 1, 1, 0, 0, 1, 0, 0,\n",
              "       1, 1, 0, 0, 1, 0, 1, 1, 0, 1, 1, 0, 1, 0, 1, 0, 1, 0, 0, 0, 0, 1,\n",
              "       0, 1, 0, 1, 0, 1, 1, 0, 1, 1, 0, 1, 1, 1, 0, 0, 0, 1, 1, 0, 1, 0,\n",
              "       1, 0, 0, 1, 1, 0, 0, 1, 1, 0, 0, 1, 0, 0, 1, 1, 1, 1, 0, 0, 1, 1,\n",
              "       1, 0, 1, 1, 0, 1, 0, 0, 1, 0, 0, 1, 1, 1, 0, 0, 1, 1, 0, 0, 1, 0,\n",
              "       0, 1, 0, 1, 0, 1, 0, 1, 1, 1, 1, 0, 0, 0, 0, 1, 0, 0, 1, 1, 0, 0,\n",
              "       0, 0, 1, 1, 0, 0, 1, 1, 1, 1, 0, 0, 1, 0, 1, 0, 0, 0, 0, 0, 1, 1,\n",
              "       1, 0, 1, 1, 0, 0, 1, 1, 1, 1, 0, 1, 0, 0, 1, 1, 0, 1, 0, 1, 0, 0,\n",
              "       1, 1])"
            ]
          },
          "metadata": {},
          "execution_count": 13
        }
      ],
      "source": [
        "y_test"
      ]
    },
    {
      "cell_type": "markdown",
      "metadata": {
        "id": "xrRl7s0y7_XU"
      },
      "source": [
        "check accuracy"
      ]
    },
    {
      "cell_type": "code",
      "execution_count": 14,
      "metadata": {
        "id": "n9qBsu3X8Bn-",
        "colab": {
          "base_uri": "https://localhost:8080/"
        },
        "outputId": "8e422eca-1ce2-4289-a2a3-588ab54c19d6"
      },
      "outputs": [
        {
          "output_type": "stream",
          "name": "stdout",
          "text": [
            "0.66\n"
          ]
        }
      ],
      "source": [
        "accuracy= 0\n",
        "\n",
        "for i in range(len(y_test)):\n",
        "    if(y_test[i]== y_pred[i]):\n",
        "        accuracy+= 1\n",
        "        \n",
        "print(accuracy/len(y_test))"
      ]
    },
    {
      "cell_type": "code",
      "source": [],
      "metadata": {
        "id": "GDmVYygS7bmC"
      },
      "execution_count": 14,
      "outputs": []
    }
  ],
  "metadata": {
    "colab": {
      "provenance": [],
      "collapsed_sections": [],
      "mount_file_id": "1Q3lxPWqmRUA5_JCFLJNUhj8LpAYchhb8",
      "authorship_tag": "ABX9TyNulp84XzQvM0pe1N/a45RO",
      "include_colab_link": true
    },
    "kernelspec": {
      "display_name": "Python 3",
      "name": "python3"
    },
    "language_info": {
      "name": "python"
    },
    "accelerator": "GPU"
  },
  "nbformat": 4,
  "nbformat_minor": 0
}